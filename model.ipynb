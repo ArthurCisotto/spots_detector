{
 "cells": [
  {
   "cell_type": "code",
   "execution_count": 50,
   "metadata": {},
   "outputs": [],
   "source": [
    "import numpy as np\n",
    "import pandas as pd\n",
    "import os\n",
    "import matplotlib.pyplot as plt\n",
    "import seaborn as sns\n",
    "\n",
    "from sklearn.model_selection import train_test_split\n",
    "from sklearn.preprocessing import LabelEncoder\n",
    "from sklearn.metrics import classification_report\n",
    "from sklearn.utils import class_weight\n",
    "from sklearn.metrics import precision_score\n",
    "from sklearn.metrics import recall_score\n",
    "from sklearn.metrics import f1_score\n",
    "from sklearn.metrics import confusion_matrix\n",
    "\n",
    "from tensorflow.keras.preprocessing.image import load_img, img_to_array, ImageDataGenerator\n",
    "from tensorflow.keras.utils import to_categorical\n",
    "from tensorflow.keras.models import Sequential, Model\n",
    "from tensorflow.keras.layers import Conv2D, MaxPooling2D, Flatten, Dense, Dropout, LeakyReLU, GlobalAveragePooling2D\n",
    "from tensorflow.keras.regularizers import l2\n",
    "from tensorflow.keras.initializers import he_normal\n",
    "from tensorflow.keras.applications import MobileNetV2\n",
    "from tensorflow.keras.applications.inception_v3 import InceptionV3\n",
    "from tensorflow.keras.applications.mobilenet_v2 import preprocess_input\n",
    "\n",
    "from tensorflow import keras\n",
    "from keras import backend as K\n",
    "from keras.preprocessing import image\n",
    "from keras.optimizers import RMSprop, SGD, Adam\n",
    "from keras.callbacks import ReduceLROnPlateau\n",
    "from keras.layers import BatchNormalization"
   ]
  },
  {
   "cell_type": "code",
   "execution_count": 51,
   "metadata": {},
   "outputs": [],
   "source": [
    "# Carreguar o conjunto de treinamento\n",
    "metadata = pd.read_csv('archive/HAM10000_metadata.csv')"
   ]
  },
  {
   "cell_type": "code",
   "execution_count": 52,
   "metadata": {},
   "outputs": [
    {
     "name": "stdout",
     "output_type": "stream",
     "text": [
      "dx\n",
      "nv       6705\n",
      "mel      1113\n",
      "bkl      1099\n",
      "bcc       514\n",
      "akiec     327\n",
      "vasc      142\n",
      "df        115\n",
      "Name: count, dtype: int64\n"
     ]
    }
   ],
   "source": [
    "# Examinar a distribuição de classes\n",
    "class_distribution = metadata['dx'].value_counts()\n",
    "print(class_distribution)"
   ]
  },
  {
   "cell_type": "code",
   "execution_count": 53,
   "metadata": {},
   "outputs": [
    {
     "name": "stdout",
     "output_type": "stream",
     "text": [
      "dx\n",
      "mel      1113\n",
      "bkl      1099\n",
      "bcc       514\n",
      "akiec     327\n",
      "vasc      142\n",
      "df        115\n",
      "Name: count, dtype: int64\n"
     ]
    }
   ],
   "source": [
    "# Remover classe 'nv'\n",
    "metadata = metadata[metadata['dx'] != 'nv']\n",
    "# Examinar a distribuição de classes após remoção\n",
    "class_distribution = metadata['dx'].value_counts()\n",
    "print(class_distribution)"
   ]
  },
  {
   "cell_type": "code",
   "execution_count": 54,
   "metadata": {},
   "outputs": [],
   "source": [
    "# Pré-processamento dos rótulos (classes)\n",
    "label_encoder = LabelEncoder()\n",
    "metadata['encoded_label'] = label_encoder.fit_transform(metadata['dx'])"
   ]
  },
  {
   "cell_type": "code",
   "execution_count": 55,
   "metadata": {},
   "outputs": [],
   "source": [
    "# Carregar imagens\n",
    "image_dirs = ['archive/HAM10000_images_part_1', 'archive/HAM10000_images_part_2']\n",
    "\n",
    "images = [] # Redimensionar\n",
    "\n",
    "for image_dir in image_dirs:\n",
    "    for image_id in metadata['image_id']:\n",
    "        img_path = os.path.join(image_dir, image_id + '.jpg')\n",
    "        \n",
    "        if os.path.exists(img_path):  # Verificar se o arquivo existe\n",
    "            img = load_img(img_path, target_size=(224, 224))\n",
    "            img_array = img_to_array(img)\n",
    "            \n",
    "            img_array /= 255.0 # Normalização dos valores dos pixels (após carregamento)\n",
    "            \n",
    "            images.append(img_array)"
   ]
  },
  {
   "cell_type": "code",
   "execution_count": 56,
   "metadata": {},
   "outputs": [],
   "source": [
    "data_generator = ImageDataGenerator( rotation_range=20,  width_shift_range=0.1, height_shift_range=0.1, horizontal_flip=True, zoom_range=0.2, )"
   ]
  },
  {
   "cell_type": "code",
   "execution_count": 57,
   "metadata": {},
   "outputs": [],
   "source": [
    "X = np.array(images)\n",
    "X = X / 255.0  # Normalização dos valores dos pixels\n",
    "\n",
    "# Atualizar os rótulos y para corresponder ao novo DataFrame de metadados\n",
    "y = to_categorical(metadata['encoded_label'], num_classes=len(label_encoder.classes_))"
   ]
  },
  {
   "cell_type": "code",
   "execution_count": 58,
   "metadata": {},
   "outputs": [],
   "source": [
    "class_weights = class_weight.compute_class_weight( class_weight='balanced', classes=np.unique(metadata['dx']), y=metadata['dx'] )"
   ]
  },
  {
   "cell_type": "code",
   "execution_count": 59,
   "metadata": {},
   "outputs": [],
   "source": [
    "class_weight_dict = dict(enumerate(class_weights))\n",
    "\n"
   ]
  },
  {
   "cell_type": "code",
   "execution_count": 60,
   "metadata": {},
   "outputs": [],
   "source": [
    "# Dividir o conjunto de dados em treinamento e teste\n",
    "X_train, X_test, y_train, y_test = train_test_split(X, y, test_size=0.25, random_state=42)"
   ]
  },
  {
   "cell_type": "code",
   "execution_count": 61,
   "metadata": {},
   "outputs": [],
   "source": [
    "data_generator.fit(X) # Aplicar aumento de dados às imagens de treinamento"
   ]
  },
  {
   "cell_type": "code",
   "execution_count": 62,
   "metadata": {},
   "outputs": [
    {
     "data": {
      "text/plain": [
       "(None, None, None, None)"
      ]
     },
     "execution_count": 62,
     "metadata": {},
     "output_type": "execute_result"
    }
   ],
   "source": [
    "model = Sequential()\n",
    "model.add(Conv2D(64, (3, 3), activation='linear', input_shape=(224, 224, 3), kernel_initializer=he_normal())), model.add(LeakyReLU(alpha=0.1)), model.add(MaxPooling2D(pool_size=(2, 2))), model.add(BatchNormalization())"
   ]
  },
  {
   "cell_type": "code",
   "execution_count": 63,
   "metadata": {},
   "outputs": [
    {
     "data": {
      "text/plain": [
       "(None, None, None, None)"
      ]
     },
     "execution_count": 63,
     "metadata": {},
     "output_type": "execute_result"
    }
   ],
   "source": [
    "model.add(Conv2D(128, (3, 3), activation='linear', kernel_initializer=he_normal())) ,model.add(LeakyReLU(alpha=0.1)) ,model.add(MaxPooling2D(pool_size=(2, 2))), model.add(BatchNormalization())"
   ]
  },
  {
   "cell_type": "code",
   "execution_count": 64,
   "metadata": {},
   "outputs": [
    {
     "data": {
      "text/plain": [
       "(None, None, None, None)"
      ]
     },
     "execution_count": 64,
     "metadata": {},
     "output_type": "execute_result"
    }
   ],
   "source": [
    "model.add(Conv2D(256, (3, 3), activation='linear', kernel_initializer=he_normal())), model.add(LeakyReLU(alpha=0.1)), model.add(MaxPooling2D(pool_size=(2, 2))), model.add(BatchNormalization())"
   ]
  },
  {
   "cell_type": "code",
   "execution_count": 65,
   "metadata": {},
   "outputs": [],
   "source": [
    "model.add(Flatten())"
   ]
  },
  {
   "cell_type": "markdown",
   "metadata": {},
   "source": [
    "camada densa de regularização L2"
   ]
  },
  {
   "cell_type": "code",
   "execution_count": 66,
   "metadata": {},
   "outputs": [
    {
     "data": {
      "text/plain": [
       "(None, None, None, None)"
      ]
     },
     "execution_count": 66,
     "metadata": {},
     "output_type": "execute_result"
    }
   ],
   "source": [
    "model.add(Dense(256, kernel_regularizer=l2(0.01), activation='linear', kernel_initializer=he_normal())) ,model.add(LeakyReLU(alpha=0.1)) ,model.add(Dropout(0.5)), model.add(BatchNormalization())"
   ]
  },
  {
   "cell_type": "code",
   "execution_count": 67,
   "metadata": {},
   "outputs": [
    {
     "data": {
      "text/plain": [
       "(None, None, None, None)"
      ]
     },
     "execution_count": 67,
     "metadata": {},
     "output_type": "execute_result"
    }
   ],
   "source": [
    "model.add(Dense(128, kernel_regularizer=l2(0.01), activation='linear', kernel_initializer=he_normal())), model.add(LeakyReLU(alpha=0.1)), model.add(Dropout(0.5)) ,model.add(BatchNormalization())"
   ]
  },
  {
   "cell_type": "code",
   "execution_count": 68,
   "metadata": {},
   "outputs": [],
   "source": [
    "model.add(Dense(6, activation='softmax'))"
   ]
  },
  {
   "cell_type": "code",
   "execution_count": 69,
   "metadata": {},
   "outputs": [
    {
     "name": "stdout",
     "output_type": "stream",
     "text": [
      "WARNING:tensorflow:`input_shape` is undefined or non-square, or `rows` is not in [96, 128, 160, 192, 224]. Weights for input shape (224, 224) will be loaded as the default.\n"
     ]
    }
   ],
   "source": [
    "base_model = MobileNetV2(weights='imagenet', include_top=False)"
   ]
  },
  {
   "cell_type": "code",
   "execution_count": 70,
   "metadata": {},
   "outputs": [],
   "source": [
    "x = base_model.output \n",
    "x = GlobalAveragePooling2D()(x) \n",
    "x = Dense(1024, activation='relu')(x) \n",
    "predictions = Dense(len(label_encoder.classes_), activation='softmax')(x)"
   ]
  },
  {
   "cell_type": "code",
   "execution_count": 71,
   "metadata": {},
   "outputs": [],
   "source": [
    "model = Model(inputs=base_model.input, outputs=predictions)"
   ]
  },
  {
   "cell_type": "code",
   "execution_count": 72,
   "metadata": {},
   "outputs": [],
   "source": [
    "for layer in base_model.layers: layer.trainable = False"
   ]
  },
  {
   "cell_type": "code",
   "execution_count": 73,
   "metadata": {},
   "outputs": [],
   "source": [
    "# Carregar o modelo InceptionV3 pré-treinado\n",
    "base_model = InceptionV3(weights='imagenet', include_top=False)\n",
    "\n",
    "# Adicionando uma nova camada de saída\n",
    "x = base_model.output\n",
    "x = GlobalAveragePooling2D()(x)\n",
    "x = Dense(1024, activation='relu')(x)\n",
    "predictions = Dense(6, activation='softmax')(x)\n",
    "\n",
    "# Modelo a ser treinado\n",
    "model = Model(inputs=base_model.input, outputs=predictions)\n",
    "\n",
    "# Treinamento apenas das camadas superiores (que foram adicionadas aleatoriamente)\n",
    "for layer in base_model.layers:\n",
    "    layer.trainable = False"
   ]
  },
  {
   "cell_type": "code",
   "execution_count": 74,
   "metadata": {},
   "outputs": [],
   "source": [
    "learning_rate = 0.00001\n",
    "#optimizer = Adam(learning_rate=learning_rate)\n",
    "#optimizer = SGD(learning_rate=learning_rate)\n",
    "optimizer = RMSprop(learning_rate=learning_rate)"
   ]
  },
  {
   "cell_type": "code",
   "execution_count": 75,
   "metadata": {},
   "outputs": [],
   "source": [
    "model.compile(optimizer=optimizer, loss='categorical_crossentropy', metrics=['accuracy'])"
   ]
  },
  {
   "cell_type": "code",
   "execution_count": 76,
   "metadata": {},
   "outputs": [],
   "source": [
    "# Definição do número de épocas e outros hiperparâmetros de treinamento\n",
    "num_epochs = 25\n",
    "batch_size = 32"
   ]
  },
  {
   "cell_type": "code",
   "execution_count": 77,
   "metadata": {},
   "outputs": [],
   "source": [
    "augmented_data = data_generator.flow(X_train, y_train, batch_size=batch_size)"
   ]
  },
  {
   "cell_type": "code",
   "execution_count": 78,
   "metadata": {},
   "outputs": [
    {
     "name": "stdout",
     "output_type": "stream",
     "text": [
      "78/78 [==============================] - 161s 2s/step - loss: 1.6228 - accuracy: 0.3151 - val_loss: 1.5304 - val_accuracy: 0.3019\n",
      "78/78 [==============================] - 166s 2s/step - loss: 1.8317 - accuracy: 0.3461 - val_loss: 1.7047 - val_accuracy: 0.3019\n"
     ]
    },
    {
     "data": {
      "text/plain": [
       "<keras.src.callbacks.History at 0x29d7bce6a90>"
      ]
     },
     "execution_count": 78,
     "metadata": {},
     "output_type": "execute_result"
    }
   ],
   "source": [
    "history = model.fit(X_train, y_train, validation_data=(X_test, y_test), epochs=num_epochs, batch_size=batch_size)\n",
    "\n",
    "#model.fit(augmented_data, epochs=num_epochs, validation_data=(X_test, y_test)) #MobileNetV2 com aumento de dados\n",
    "# model.fit(X_train, y_train, validation_data=(X_test, y_test), class_weight=class_weight_dict, epochs=num_epochs, batch_size=batch_size) #MobileNetV2 com pesos\n",
    "model.fit(augmented_data, epochs=num_epochs, validation_data=(X_test, y_test), class_weight=class_weight_dict) #MobileNetV2 com aumento de dados e pesos"
   ]
  },
  {
   "cell_type": "code",
   "execution_count": 83,
   "metadata": {},
   "outputs": [
    {
     "name": "stdout",
     "output_type": "stream",
     "text": [
      "26/26 [==============================] - 32s 1s/step - loss: 1.7047 - accuracy: 0.3019\n",
      "78/78 [==============================] - 109s 1s/step - loss: 1.6965 - accuracy: 0.3477\n",
      "Validation: accuracy = 0.347703 ; loss_v = 1.696459\n",
      "Test: accuracy = 0.301932 ; loss = 1.704686\n",
      "26/26 [==============================] - 33s 1s/step\n"
     ]
    }
   ],
   "source": [
    "loss, accuracy = model.evaluate(X_test, y_test, verbose=1) \n",
    "loss_v, accuracy_v = model.evaluate(X_train, y_train, verbose=1) \n",
    "print(\"Validation: accuracy = %f ; loss_v = %f\" % (accuracy_v, loss_v)) \n",
    "print(\"Test: accuracy = %f ; loss = %f\" % (accuracy, loss)) \n",
    "#plt.plot(history)\n",
    "y_pred = model.predict(X_test)\n",
    "y_true = np.argmax(y_test, axis=1)\n",
    "y_pred = np.argmax(y_pred, axis=1)"
   ]
  },
  {
   "cell_type": "code",
   "execution_count": 84,
   "metadata": {},
   "outputs": [
    {
     "name": "stdout",
     "output_type": "stream",
     "text": [
      "26/26 [==============================] - 41s 2s/step - loss: 1.7047 - accuracy: 0.3019\n",
      "Accuracy: 30.19%\n"
     ]
    }
   ],
   "source": [
    "loss, accuracy = model.evaluate(X_test, y_test)\n",
    "print(f'Accuracy: {accuracy * 100:.2f}%')"
   ]
  },
  {
   "cell_type": "code",
   "execution_count": 85,
   "metadata": {},
   "outputs": [
    {
     "name": "stdout",
     "output_type": "stream",
     "text": [
      "Precision: 78.92%\n"
     ]
    }
   ],
   "source": [
    "precision = precision_score(y_true, y_pred, average='weighted', zero_division=1)\n",
    "\n",
    "print(f\"Precision: {precision * 100:.2f}%\")"
   ]
  },
  {
   "cell_type": "code",
   "execution_count": 86,
   "metadata": {},
   "outputs": [
    {
     "name": "stdout",
     "output_type": "stream",
     "text": [
      "Recall: 30.19%\n"
     ]
    }
   ],
   "source": [
    "recall = recall_score(y_true, y_pred, average='weighted')\n",
    "print(f\"Recall: {recall * 100:.2f}%\")"
   ]
  },
  {
   "cell_type": "code",
   "execution_count": 87,
   "metadata": {},
   "outputs": [
    {
     "name": "stdout",
     "output_type": "stream",
     "text": [
      "F1-score: 14.00%\n"
     ]
    }
   ],
   "source": [
    "f1 = f1_score(y_true, y_pred, average='weighted')\n",
    "print(f\"F1-score: {f1 * 100:.2f}%\")"
   ]
  },
  {
   "cell_type": "code",
   "execution_count": 88,
   "metadata": {},
   "outputs": [
    {
     "data": {
      "image/png": "[encoded data removed]",
      "text/plain": [
       "<Figure size 400x400 with 2 Axes>"
      ]
     },
     "metadata": {},
     "output_type": "display_data"
    }
   ],
   "source": [
    "confusion = confusion_matrix(y_true, y_pred)\n",
    "\n",
    "plt.figure(figsize=(4, 4))\n",
    "sns.heatmap(confusion, annot=True, fmt='d', cmap='Blues')\n",
    "plt.xlabel('Previsões')\n",
    "plt.ylabel('Valores Verdadeiros')\n",
    "plt.title('Confusion Matrix')\n",
    "plt.show()"
   ]
  },
  {
   "cell_type": "code",
   "execution_count": 96,
   "metadata": {},
   "outputs": [],
   "source": [
    "model.save('modelo.keras')"
   ]
  },
  {
   "cell_type": "code",
   "execution_count": 98,
   "metadata": {},
   "outputs": [],
   "source": [
    "# Carregar modelo treinado\n",
    "model = keras.models.load_model('modelo.keras')\n",
    "class_names = {\n",
    "        'mel': 'Melanoma',\n",
    "        'bkl': 'Lesoes Benignas Semelhantes a Ceratose',\n",
    "        'bcc': 'Carcinoma de Celulas Basais',\n",
    "        'akiec': 'Queratoses Actinicas',\n",
    "        'vasc': 'Lesoes Vasculares',\n",
    "        'df': 'Dermatofibroma'\n",
    "    }"
   ]
  },
  {
   "cell_type": "code",
   "execution_count": 109,
   "metadata": {},
   "outputs": [
    {
     "name": "stdout",
     "output_type": "stream",
     "text": [
      "1/1 [==============================] - 0s 83ms/step\n"
     ]
    },
    {
     "name": "stderr",
     "output_type": "stream",
     "text": [
      "Clipping input data to the valid range for imshow with RGB data ([0..1] for floats or [0..255] for integers).\n"
     ]
    },
    {
     "name": "stdout",
     "output_type": "stream",
     "text": [
      "Resultado da detecção: Carcinoma de Celulas Basais\n"
     ]
    },
    {
     "data": {
      "image/png": "[encoded data removed]",
      "text/plain": [
       "<Figure size 640x480 with 1 Axes>"
      ]
     },
     "metadata": {},
     "output_type": "display_data"
    }
   ],
   "source": [
    "# Implementação da detecção em uma imagem de entrada\n",
    "def detect_skin_lesion(image_path):\n",
    "    # Carreguar a imagem de entrada e pré-processe-a\n",
    "    img = load_img(image_path, target_size=(224, 224))\n",
    "    img_array = img_to_array(img)\n",
    "    #img_array = img_array / 255.0  #CNN # Normalização dos valores dos pixels\n",
    "    img_array = preprocess_input(img_array) #MobileNetV2\n",
    "    img_array = np.expand_dims(img_array, axis=0)  # Adicionar uma dimensão extra para corresponder à forma do modelo\n",
    "\n",
    "    # Fazer uma previsão usando o modelo treinado\n",
    "    prediction = model.predict(img_array)\n",
    "\n",
    "    # Decodificar a previsão em uma classe ou rótulo\n",
    "    predicted_class = label_encoder.inverse_transform([np.argmax(prediction)])[0]\n",
    "    \n",
    "    class_name = class_names.get(predicted_class, predicted_class)\n",
    "\n",
    "    return class_name, img_array\n",
    "\n",
    "# Exemplo de uso da função de detecção\n",
    "image_path = 'archive/img2.jpeg'\n",
    "result, preprocessed_img = detect_skin_lesion(image_path)\n",
    "print('Resultado da detecção:', result)\n",
    "\n",
    "# Carreguar e exibir a imagem\n",
    "plt.imshow(preprocessed_img[0])  # Acessar a primeira imagem no lote (única imagem)\n",
    "plt.title(f'Resultado da detecção: {result}')\n",
    "plt.axis('off')  # Desativar os números dos eixos\n",
    "plt.show()"
   ]
  },
  {
   "cell_type": "code",
   "execution_count": null,
   "metadata": {},
   "outputs": [],
   "source": []
  }
 ],
 "metadata": {
  "kernelspec": {
   "display_name": "Python 3",
   "language": "python",
   "name": "python3"
  },
  "language_info": {
   "codemirror_mode": {
    "name": "ipython",
    "version": 3
   },
   "file_extension": ".py",
   "mimetype": "text/x-python",
   "name": "python",
   "nbconvert_exporter": "python",
   "pygments_lexer": "ipython3",
   "version": "3.11.5"
  }
 },
 "nbformat": 4,
 "nbformat_minor": 2
}
